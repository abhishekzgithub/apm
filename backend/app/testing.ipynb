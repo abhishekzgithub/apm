{
 "cells": [
  {
   "cell_type": "code",
   "execution_count": 1,
   "metadata": {},
   "outputs": [],
   "source": [
    "import yaml\n",
    "import json"
   ]
  },
  {
   "cell_type": "code",
   "execution_count": 2,
   "metadata": {},
   "outputs": [],
   "source": [
    "# with open(\"test.json\",mode=\"w\") as wfp:\n",
    "#     json.dump(yaml_dict,wfp)"
   ]
  },
  {
   "cell_type": "code",
   "execution_count": 3,
   "metadata": {},
   "outputs": [],
   "source": [
    "filename=\"test.yaml\"\n",
    "with open(filename,mode=\"r\") as fr:\n",
    "    yaml_dict=yaml.load(fr,Loader=yaml.Loader)\n",
    "#print(yaml_dict)"
   ]
  },
  {
   "cell_type": "code",
   "execution_count": 4,
   "metadata": {},
   "outputs": [],
   "source": [
    "import pandas as pd\n",
    "from pandas.io.json import json_normalize"
   ]
  },
  {
   "cell_type": "code",
   "execution_count": 5,
   "metadata": {},
   "outputs": [],
   "source": [
    "# pd.DataFrame([yaml_dict])"
   ]
  },
  {
   "cell_type": "code",
   "execution_count": 6,
   "metadata": {},
   "outputs": [
    {
     "data": {
      "text/html": [
       "<div>\n",
       "<style scoped>\n",
       "    .dataframe tbody tr th:only-of-type {\n",
       "        vertical-align: middle;\n",
       "    }\n",
       "\n",
       "    .dataframe tbody tr th {\n",
       "        vertical-align: top;\n",
       "    }\n",
       "\n",
       "    .dataframe thead th {\n",
       "        text-align: right;\n",
       "    }\n",
       "</style>\n",
       "<table border=\"1\" class=\"dataframe\">\n",
       "  <thead>\n",
       "    <tr style=\"text-align: right;\">\n",
       "      <th></th>\n",
       "      <th>key</th>\n",
       "      <th>heartbeat_interval</th>\n",
       "      <th>clouds</th>\n",
       "      <th>projects.awsDetails.secretKey</th>\n",
       "      <th>projects.awsDetails.accessKey</th>\n",
       "      <th>projects.projectList</th>\n",
       "    </tr>\n",
       "  </thead>\n",
       "  <tbody>\n",
       "    <tr>\n",
       "      <td>0</td>\n",
       "      <td>XXXXXXXXX</td>\n",
       "      <td>300</td>\n",
       "      <td>[{'name': 'Home-Account', 'type': 'aws', 'tags...</td>\n",
       "      <td>XXXXXXXXX</td>\n",
       "      <td>XXXXXXXXX</td>\n",
       "      <td>[{'name': 'controller_pro', 'applications': [{...</td>\n",
       "    </tr>\n",
       "  </tbody>\n",
       "</table>\n",
       "</div>"
      ],
      "text/plain": [
       "         key  heartbeat_interval  \\\n",
       "0  XXXXXXXXX                 300   \n",
       "\n",
       "                                              clouds  \\\n",
       "0  [{'name': 'Home-Account', 'type': 'aws', 'tags...   \n",
       "\n",
       "  projects.awsDetails.secretKey projects.awsDetails.accessKey  \\\n",
       "0                     XXXXXXXXX                     XXXXXXXXX   \n",
       "\n",
       "                                projects.projectList  \n",
       "0  [{'name': 'controller_pro', 'applications': [{...  "
      ]
     },
     "execution_count": 6,
     "metadata": {},
     "output_type": "execute_result"
    }
   ],
   "source": [
    "df_01=json_normalize(yaml_dict)\n",
    "df_01"
   ]
  },
  {
   "cell_type": "code",
   "execution_count": 7,
   "metadata": {},
   "outputs": [],
   "source": [
    "# df_02=pd.DataFrame(df_01[\"clouds\"][0])\n",
    "# df_02"
   ]
  },
  {
   "cell_type": "code",
   "execution_count": 8,
   "metadata": {},
   "outputs": [],
   "source": [
    "# df_01[\"clouds\"].shape[0]==1"
   ]
  },
  {
   "cell_type": "markdown",
   "metadata": {},
   "source": [
    "# Clouds"
   ]
  },
  {
   "cell_type": "code",
   "execution_count": 9,
   "metadata": {},
   "outputs": [
    {
     "data": {
      "text/html": [
       "<div>\n",
       "<style scoped>\n",
       "    .dataframe tbody tr th:only-of-type {\n",
       "        vertical-align: middle;\n",
       "    }\n",
       "\n",
       "    .dataframe tbody tr th {\n",
       "        vertical-align: top;\n",
       "    }\n",
       "\n",
       "    .dataframe thead th {\n",
       "        text-align: right;\n",
       "    }\n",
       "</style>\n",
       "<table border=\"1\" class=\"dataframe\">\n",
       "  <thead>\n",
       "    <tr style=\"text-align: right;\">\n",
       "      <th></th>\n",
       "      <th>name</th>\n",
       "      <th>type</th>\n",
       "      <th>metric</th>\n",
       "      <th>tags.key1</th>\n",
       "      <th>config.secretKey</th>\n",
       "      <th>config.accessKey</th>\n",
       "      <th>config.token</th>\n",
       "    </tr>\n",
       "  </thead>\n",
       "  <tbody>\n",
       "    <tr>\n",
       "      <td>0</td>\n",
       "      <td>Home-Account</td>\n",
       "      <td>aws</td>\n",
       "      <td>[{'plugin': 'awsBilling', 'enabled': True, 'in...</td>\n",
       "      <td>value1</td>\n",
       "      <td>XXXXXXXXX</td>\n",
       "      <td>XXXXXXXXX</td>\n",
       "      <td>None</td>\n",
       "    </tr>\n",
       "  </tbody>\n",
       "</table>\n",
       "</div>"
      ],
      "text/plain": [
       "           name type                                             metric  \\\n",
       "0  Home-Account  aws  [{'plugin': 'awsBilling', 'enabled': True, 'in...   \n",
       "\n",
       "  tags.key1 config.secretKey config.accessKey config.token  \n",
       "0    value1        XXXXXXXXX        XXXXXXXXX         None  "
      ]
     },
     "execution_count": 9,
     "metadata": {},
     "output_type": "execute_result"
    }
   ],
   "source": [
    "df_02=json_normalize(df_01[\"clouds\"][0])\n",
    "df_02"
   ]
  },
  {
   "cell_type": "code",
   "execution_count": 10,
   "metadata": {},
   "outputs": [
    {
     "data": {
      "text/html": [
       "<div>\n",
       "<style scoped>\n",
       "    .dataframe tbody tr th:only-of-type {\n",
       "        vertical-align: middle;\n",
       "    }\n",
       "\n",
       "    .dataframe tbody tr th {\n",
       "        vertical-align: top;\n",
       "    }\n",
       "\n",
       "    .dataframe thead th {\n",
       "        text-align: right;\n",
       "    }\n",
       "</style>\n",
       "<table border=\"1\" class=\"dataframe\">\n",
       "  <thead>\n",
       "    <tr style=\"text-align: right;\">\n",
       "      <th></th>\n",
       "      <th>plugin</th>\n",
       "      <th>enabled</th>\n",
       "      <th>interval</th>\n",
       "      <th>config.bucket</th>\n",
       "      <th>config.folder</th>\n",
       "    </tr>\n",
       "  </thead>\n",
       "  <tbody>\n",
       "    <tr>\n",
       "      <td>0</td>\n",
       "      <td>awsBilling</td>\n",
       "      <td>True</td>\n",
       "      <td>300</td>\n",
       "      <td>snappyflowbilling</td>\n",
       "      <td>Billreport/SnappyflowReport</td>\n",
       "    </tr>\n",
       "    <tr>\n",
       "      <td>1</td>\n",
       "      <td>awsInventory</td>\n",
       "      <td>True</td>\n",
       "      <td>300</td>\n",
       "      <td>NaN</td>\n",
       "      <td>NaN</td>\n",
       "    </tr>\n",
       "  </tbody>\n",
       "</table>\n",
       "</div>"
      ],
      "text/plain": [
       "         plugin  enabled  interval      config.bucket  \\\n",
       "0    awsBilling     True       300  snappyflowbilling   \n",
       "1  awsInventory     True       300                NaN   \n",
       "\n",
       "                 config.folder  \n",
       "0  Billreport/SnappyflowReport  \n",
       "1                          NaN  "
      ]
     },
     "execution_count": 10,
     "metadata": {},
     "output_type": "execute_result"
    }
   ],
   "source": [
    "df_03=json_normalize(df_02['metric'][0])\n",
    "df_03"
   ]
  },
  {
   "cell_type": "markdown",
   "metadata": {},
   "source": [
    "# Project"
   ]
  },
  {
   "cell_type": "code",
   "execution_count": 11,
   "metadata": {},
   "outputs": [
    {
     "data": {
      "text/html": [
       "<div>\n",
       "<style scoped>\n",
       "    .dataframe tbody tr th:only-of-type {\n",
       "        vertical-align: middle;\n",
       "    }\n",
       "\n",
       "    .dataframe tbody tr th {\n",
       "        vertical-align: top;\n",
       "    }\n",
       "\n",
       "    .dataframe thead th {\n",
       "        text-align: right;\n",
       "    }\n",
       "</style>\n",
       "<table border=\"1\" class=\"dataframe\">\n",
       "  <thead>\n",
       "    <tr style=\"text-align: right;\">\n",
       "      <th></th>\n",
       "      <th>name</th>\n",
       "      <th>applications</th>\n",
       "    </tr>\n",
       "  </thead>\n",
       "  <tbody>\n",
       "    <tr>\n",
       "      <td>0</td>\n",
       "      <td>controller_pro</td>\n",
       "      <td>[{'name': 'cat_app1', 'endpoints': [{'name': '...</td>\n",
       "    </tr>\n",
       "    <tr>\n",
       "      <td>1</td>\n",
       "      <td>controller_pro2</td>\n",
       "      <td>[{'name': 'cat_app2', 'endpoints': [{'name': '...</td>\n",
       "    </tr>\n",
       "  </tbody>\n",
       "</table>\n",
       "</div>"
      ],
      "text/plain": [
       "              name                                       applications\n",
       "0   controller_pro  [{'name': 'cat_app1', 'endpoints': [{'name': '...\n",
       "1  controller_pro2  [{'name': 'cat_app2', 'endpoints': [{'name': '..."
      ]
     },
     "execution_count": 11,
     "metadata": {},
     "output_type": "execute_result"
    }
   ],
   "source": [
    "df_04=pd.DataFrame(df_01[\"projects.projectList\"].values[0])\n",
    "df_04"
   ]
  },
  {
   "cell_type": "code",
   "execution_count": 12,
   "metadata": {},
   "outputs": [
    {
     "data": {
      "text/html": [
       "<div>\n",
       "<style scoped>\n",
       "    .dataframe tbody tr th:only-of-type {\n",
       "        vertical-align: middle;\n",
       "    }\n",
       "\n",
       "    .dataframe tbody tr th {\n",
       "        vertical-align: top;\n",
       "    }\n",
       "\n",
       "    .dataframe thead th {\n",
       "        text-align: right;\n",
       "    }\n",
       "</style>\n",
       "<table border=\"1\" class=\"dataframe\">\n",
       "  <thead>\n",
       "    <tr style=\"text-align: right;\">\n",
       "      <th></th>\n",
       "      <th>name</th>\n",
       "      <th>applications</th>\n",
       "    </tr>\n",
       "  </thead>\n",
       "  <tbody>\n",
       "    <tr>\n",
       "      <td>0</td>\n",
       "      <td>controller_pro</td>\n",
       "      <td>[{'name': 'cat_app1', 'endpoints': [{'name': '...</td>\n",
       "    </tr>\n",
       "  </tbody>\n",
       "</table>\n",
       "</div>"
      ],
      "text/plain": [
       "             name                                       applications\n",
       "0  controller_pro  [{'name': 'cat_app1', 'endpoints': [{'name': '..."
      ]
     },
     "execution_count": 12,
     "metadata": {},
     "output_type": "execute_result"
    }
   ],
   "source": [
    "#df_051=(df_04[df_04.name==\"controller_pro\"][\"applications\"])\n",
    "#df_04[df_04.name==\"controller_pro2\"][\"applications\"]\n",
    "#list(df_04[df_04.name==\"controller_pro\"][\"applications\"])\n",
    "#pd.DataFrame(df_051)\n",
    "########################\n",
    "d1=df_04[df_04.name==\"controller_pro\"]#[\"applications\"]\n",
    "d1"
   ]
  },
  {
   "cell_type": "code",
   "execution_count": 13,
   "metadata": {},
   "outputs": [
    {
     "data": {
      "text/plain": [
       "0    [{'name': 'cat_app1', 'endpoints': [{'name': '...\n",
       "Name: applications, dtype: object"
      ]
     },
     "execution_count": 13,
     "metadata": {},
     "output_type": "execute_result"
    }
   ],
   "source": [
    "d1=df_04[df_04.name==\"controller_pro\"][\"applications\"]\n",
    "d1"
   ]
  },
  {
   "cell_type": "code",
   "execution_count": 14,
   "metadata": {
    "scrolled": true
   },
   "outputs": [
    {
     "data": {
      "text/html": [
       "<div>\n",
       "<style scoped>\n",
       "    .dataframe tbody tr th:only-of-type {\n",
       "        vertical-align: middle;\n",
       "    }\n",
       "\n",
       "    .dataframe tbody tr th {\n",
       "        vertical-align: top;\n",
       "    }\n",
       "\n",
       "    .dataframe thead th {\n",
       "        text-align: right;\n",
       "    }\n",
       "</style>\n",
       "<table border=\"1\" class=\"dataframe\">\n",
       "  <thead>\n",
       "    <tr style=\"text-align: right;\">\n",
       "      <th></th>\n",
       "      <th>name</th>\n",
       "      <th>endpoints</th>\n",
       "    </tr>\n",
       "  </thead>\n",
       "  <tbody>\n",
       "    <tr>\n",
       "      <td>0</td>\n",
       "      <td>cat_app1</td>\n",
       "      <td>[{'name': 'rds_endpoint_test1', 'endpoint_type...</td>\n",
       "    </tr>\n",
       "  </tbody>\n",
       "</table>\n",
       "</div>"
      ],
      "text/plain": [
       "       name                                          endpoints\n",
       "0  cat_app1  [{'name': 'rds_endpoint_test1', 'endpoint_type..."
      ]
     },
     "execution_count": 14,
     "metadata": {},
     "output_type": "execute_result"
    }
   ],
   "source": [
    "# #((df_04[df_04.name==\"controller_pro2\"][\"applications\"]))\n",
    "# json_normalize(json_normalize([d1],record_path=\"applications\"))\n",
    "d2=(d1.values)\n",
    "pd.DataFrame(d2[0])"
   ]
  },
  {
   "cell_type": "code",
   "execution_count": 15,
   "metadata": {},
   "outputs": [
    {
     "ename": "KeyError",
     "evalue": "'applications'",
     "output_type": "error",
     "traceback": [
      "\u001b[1;31m---------------------------------------------------------------------------\u001b[0m",
      "\u001b[1;31mKeyError\u001b[0m                                  Traceback (most recent call last)",
      "\u001b[1;32m<ipython-input-15-1ebf9e8a9433>\u001b[0m in \u001b[0;36m<module>\u001b[1;34m()\u001b[0m\n\u001b[1;32m----> 1\u001b[1;33m \u001b[0md3\u001b[0m\u001b[1;33m=\u001b[0m\u001b[0md1\u001b[0m\u001b[1;33m[\u001b[0m\u001b[1;34m\"applications\"\u001b[0m\u001b[1;33m]\u001b[0m\u001b[1;33m.\u001b[0m\u001b[0mvalues\u001b[0m\u001b[1;33m\u001b[0m\u001b[0m\n\u001b[0m\u001b[0;32m      2\u001b[0m \u001b[0md4\u001b[0m\u001b[1;33m=\u001b[0m\u001b[0mjson_normalize\u001b[0m\u001b[1;33m(\u001b[0m\u001b[0md3\u001b[0m\u001b[1;33m[\u001b[0m\u001b[1;36m0\u001b[0m\u001b[1;33m]\u001b[0m\u001b[1;33m)\u001b[0m\u001b[1;33m\u001b[0m\u001b[0m\n\u001b[0;32m      3\u001b[0m \u001b[0md4\u001b[0m\u001b[1;33m\u001b[0m\u001b[0m\n",
      "\u001b[1;32mD:\\Anaconda3\\lib\\site-packages\\pandas\\core\\series.py\u001b[0m in \u001b[0;36m__getitem__\u001b[1;34m(self, key)\u001b[0m\n\u001b[0;32m   1066\u001b[0m         \u001b[0mkey\u001b[0m \u001b[1;33m=\u001b[0m \u001b[0mcom\u001b[0m\u001b[1;33m.\u001b[0m\u001b[0mapply_if_callable\u001b[0m\u001b[1;33m(\u001b[0m\u001b[0mkey\u001b[0m\u001b[1;33m,\u001b[0m \u001b[0mself\u001b[0m\u001b[1;33m)\u001b[0m\u001b[1;33m\u001b[0m\u001b[0m\n\u001b[0;32m   1067\u001b[0m         \u001b[1;32mtry\u001b[0m\u001b[1;33m:\u001b[0m\u001b[1;33m\u001b[0m\u001b[0m\n\u001b[1;32m-> 1068\u001b[1;33m             \u001b[0mresult\u001b[0m \u001b[1;33m=\u001b[0m \u001b[0mself\u001b[0m\u001b[1;33m.\u001b[0m\u001b[0mindex\u001b[0m\u001b[1;33m.\u001b[0m\u001b[0mget_value\u001b[0m\u001b[1;33m(\u001b[0m\u001b[0mself\u001b[0m\u001b[1;33m,\u001b[0m \u001b[0mkey\u001b[0m\u001b[1;33m)\u001b[0m\u001b[1;33m\u001b[0m\u001b[0m\n\u001b[0m\u001b[0;32m   1069\u001b[0m \u001b[1;33m\u001b[0m\u001b[0m\n\u001b[0;32m   1070\u001b[0m             \u001b[1;32mif\u001b[0m \u001b[1;32mnot\u001b[0m \u001b[0mis_scalar\u001b[0m\u001b[1;33m(\u001b[0m\u001b[0mresult\u001b[0m\u001b[1;33m)\u001b[0m\u001b[1;33m:\u001b[0m\u001b[1;33m\u001b[0m\u001b[0m\n",
      "\u001b[1;32mD:\\Anaconda3\\lib\\site-packages\\pandas\\core\\indexes\\base.py\u001b[0m in \u001b[0;36mget_value\u001b[1;34m(self, series, key)\u001b[0m\n\u001b[0;32m   4728\u001b[0m         \u001b[0mk\u001b[0m \u001b[1;33m=\u001b[0m \u001b[0mself\u001b[0m\u001b[1;33m.\u001b[0m\u001b[0m_convert_scalar_indexer\u001b[0m\u001b[1;33m(\u001b[0m\u001b[0mk\u001b[0m\u001b[1;33m,\u001b[0m \u001b[0mkind\u001b[0m\u001b[1;33m=\u001b[0m\u001b[1;34m\"getitem\"\u001b[0m\u001b[1;33m)\u001b[0m\u001b[1;33m\u001b[0m\u001b[0m\n\u001b[0;32m   4729\u001b[0m         \u001b[1;32mtry\u001b[0m\u001b[1;33m:\u001b[0m\u001b[1;33m\u001b[0m\u001b[0m\n\u001b[1;32m-> 4730\u001b[1;33m             \u001b[1;32mreturn\u001b[0m \u001b[0mself\u001b[0m\u001b[1;33m.\u001b[0m\u001b[0m_engine\u001b[0m\u001b[1;33m.\u001b[0m\u001b[0mget_value\u001b[0m\u001b[1;33m(\u001b[0m\u001b[0ms\u001b[0m\u001b[1;33m,\u001b[0m \u001b[0mk\u001b[0m\u001b[1;33m,\u001b[0m \u001b[0mtz\u001b[0m\u001b[1;33m=\u001b[0m\u001b[0mgetattr\u001b[0m\u001b[1;33m(\u001b[0m\u001b[0mseries\u001b[0m\u001b[1;33m.\u001b[0m\u001b[0mdtype\u001b[0m\u001b[1;33m,\u001b[0m \u001b[1;34m\"tz\"\u001b[0m\u001b[1;33m,\u001b[0m \u001b[1;32mNone\u001b[0m\u001b[1;33m)\u001b[0m\u001b[1;33m)\u001b[0m\u001b[1;33m\u001b[0m\u001b[0m\n\u001b[0m\u001b[0;32m   4731\u001b[0m         \u001b[1;32mexcept\u001b[0m \u001b[0mKeyError\u001b[0m \u001b[1;32mas\u001b[0m \u001b[0me1\u001b[0m\u001b[1;33m:\u001b[0m\u001b[1;33m\u001b[0m\u001b[0m\n\u001b[0;32m   4732\u001b[0m             \u001b[1;32mif\u001b[0m \u001b[0mlen\u001b[0m\u001b[1;33m(\u001b[0m\u001b[0mself\u001b[0m\u001b[1;33m)\u001b[0m \u001b[1;33m>\u001b[0m \u001b[1;36m0\u001b[0m \u001b[1;32mand\u001b[0m \u001b[1;33m(\u001b[0m\u001b[0mself\u001b[0m\u001b[1;33m.\u001b[0m\u001b[0mholds_integer\u001b[0m\u001b[1;33m(\u001b[0m\u001b[1;33m)\u001b[0m \u001b[1;32mor\u001b[0m \u001b[0mself\u001b[0m\u001b[1;33m.\u001b[0m\u001b[0mis_boolean\u001b[0m\u001b[1;33m(\u001b[0m\u001b[1;33m)\u001b[0m\u001b[1;33m)\u001b[0m\u001b[1;33m:\u001b[0m\u001b[1;33m\u001b[0m\u001b[0m\n",
      "\u001b[1;32mpandas\\_libs\\index.pyx\u001b[0m in \u001b[0;36mpandas._libs.index.IndexEngine.get_value\u001b[1;34m()\u001b[0m\n",
      "\u001b[1;32mpandas\\_libs\\index.pyx\u001b[0m in \u001b[0;36mpandas._libs.index.IndexEngine.get_value\u001b[1;34m()\u001b[0m\n",
      "\u001b[1;32mpandas\\_libs\\index.pyx\u001b[0m in \u001b[0;36mpandas._libs.index.IndexEngine.get_loc\u001b[1;34m()\u001b[0m\n",
      "\u001b[1;32mpandas\\_libs\\index_class_helper.pxi\u001b[0m in \u001b[0;36mpandas._libs.index.Int64Engine._check_type\u001b[1;34m()\u001b[0m\n",
      "\u001b[1;31mKeyError\u001b[0m: 'applications'"
     ]
    }
   ],
   "source": [
    "# d3=d1[\"applications\"].values\n",
    "# d4=json_normalize(d3[0])\n",
    "# d4"
   ]
  },
  {
   "cell_type": "code",
   "execution_count": 17,
   "metadata": {},
   "outputs": [],
   "source": [
    "# d5=d4[\"endpoints\"].values\n",
    "# d6=pd.DataFrame(d5[0])\n",
    "# d6"
   ]
  },
  {
   "cell_type": "code",
   "execution_count": 18,
   "metadata": {},
   "outputs": [],
   "source": [
    "# d6[d6.name==\"elb_2test\"]"
   ]
  },
  {
   "cell_type": "code",
   "execution_count": null,
   "metadata": {},
   "outputs": [],
   "source": [
    "# d7=d6[\"metric\"].values\n",
    "# d8=pd.DataFrame(d7[0])\n",
    "# d8"
   ]
  },
  {
   "cell_type": "code",
   "execution_count": null,
   "metadata": {},
   "outputs": [],
   "source": [
    "# d9=d8[\"config\"].values\n",
    "# d10=pd.DataFrame(d9)\n",
    "# d10\n",
    "# #json_normalize(d9)"
   ]
  },
  {
   "cell_type": "code",
   "execution_count": null,
   "metadata": {},
   "outputs": [],
   "source": [
    "# df_050=json_normalize(df_04[\"applications\"][1])\n",
    "# df_050\n",
    "# df_04[\"applications\"]"
   ]
  },
  {
   "cell_type": "markdown",
   "metadata": {},
   "source": [
    "# Application"
   ]
  },
  {
   "cell_type": "code",
   "execution_count": 19,
   "metadata": {},
   "outputs": [
    {
     "data": {
      "text/html": [
       "<div>\n",
       "<style scoped>\n",
       "    .dataframe tbody tr th:only-of-type {\n",
       "        vertical-align: middle;\n",
       "    }\n",
       "\n",
       "    .dataframe tbody tr th {\n",
       "        vertical-align: top;\n",
       "    }\n",
       "\n",
       "    .dataframe thead th {\n",
       "        text-align: right;\n",
       "    }\n",
       "</style>\n",
       "<table border=\"1\" class=\"dataframe\">\n",
       "  <thead>\n",
       "    <tr style=\"text-align: right;\">\n",
       "      <th></th>\n",
       "      <th>name</th>\n",
       "      <th>endpoints</th>\n",
       "    </tr>\n",
       "  </thead>\n",
       "  <tbody>\n",
       "    <tr>\n",
       "      <td>0</td>\n",
       "      <td>cat_app2</td>\n",
       "      <td>[{'name': 'rds_endpoint_test2', 'endpoint_type...</td>\n",
       "    </tr>\n",
       "  </tbody>\n",
       "</table>\n",
       "</div>"
      ],
      "text/plain": [
       "       name                                          endpoints\n",
       "0  cat_app2  [{'name': 'rds_endpoint_test2', 'endpoint_type..."
      ]
     },
     "execution_count": 19,
     "metadata": {},
     "output_type": "execute_result"
    }
   ],
   "source": [
    "df_05=json_normalize(df_04[\"applications\"][1])\n",
    "df_05"
   ]
  },
  {
   "cell_type": "code",
   "execution_count": null,
   "metadata": {},
   "outputs": [],
   "source": [
    "# df_050=pd.DataFrame(df_04[df_04.name==\"cat_app\"][\"applications\"].values)\n",
    "# df_050"
   ]
  },
  {
   "cell_type": "code",
   "execution_count": null,
   "metadata": {},
   "outputs": [],
   "source": [
    "# df_06=json_normalize(df_05[\"endpoints\"][0])\n",
    "# df_06"
   ]
  },
  {
   "cell_type": "code",
   "execution_count": null,
   "metadata": {},
   "outputs": [],
   "source": []
  },
  {
   "cell_type": "code",
   "execution_count": null,
   "metadata": {},
   "outputs": [],
   "source": [
    "# df_07=json_normalize(df_06[\"metric\"][0])\n",
    "# df_07"
   ]
  },
  {
   "cell_type": "code",
   "execution_count": null,
   "metadata": {},
   "outputs": [],
   "source": [
    "# df_02=json_normalize([df_01],record_path=\"projects\")\n",
    "# df_02\n",
    "# df_03=json_normalize([df_02],record_path=\"projectList\")\n",
    "# df_03"
   ]
  },
  {
   "cell_type": "code",
   "execution_count": null,
   "metadata": {},
   "outputs": [],
   "source": [
    "# df=pd.io.json.json_normalize(yaml_dict)\n",
    "# df"
   ]
  },
  {
   "cell_type": "code",
   "execution_count": null,
   "metadata": {},
   "outputs": [],
   "source": [
    "# dict(df[\"projects.projectList\"])\n",
    "\n",
    "# df2=pd.io.json.json_normalize(df,record_path=\"projects.projectList\")\n",
    "# df2"
   ]
  },
  {
   "cell_type": "markdown",
   "metadata": {},
   "source": []
  },
  {
   "cell_type": "code",
   "execution_count": null,
   "metadata": {},
   "outputs": [],
   "source": [
    "# yaml_dict.keys()"
   ]
  },
  {
   "cell_type": "code",
   "execution_count": null,
   "metadata": {},
   "outputs": [],
   "source": [
    "# yaml_dict['key']=\"xyz\"\n",
    "# yaml_dict"
   ]
  },
  {
   "cell_type": "code",
   "execution_count": null,
   "metadata": {},
   "outputs": [],
   "source": [
    "# abc=((json.loads(json.dumps((yaml_dict)))))"
   ]
  },
  {
   "cell_type": "code",
   "execution_count": null,
   "metadata": {},
   "outputs": [],
   "source": [
    "# with open(\"test2.yaml\",mode=\"w\") as fw:\n",
    "#     print(yaml.dump(abc,fw,Dumper=yaml.Dumper,default_flow_style=False))"
   ]
  },
  {
   "cell_type": "code",
   "execution_count": null,
   "metadata": {},
   "outputs": [],
   "source": []
  },
  {
   "cell_type": "code",
   "execution_count": null,
   "metadata": {},
   "outputs": [],
   "source": [
    "# import utils"
   ]
  },
  {
   "cell_type": "code",
   "execution_count": 1,
   "metadata": {},
   "outputs": [
    {
     "name": "stdout",
     "output_type": "stream",
     "text": [
      "test.yaml\n",
      "controller_pro2 cat_app2\n"
     ]
    }
   ],
   "source": [
    "import os\n",
    "from main import config_ops\n",
    "from utils import ControllerYaml,ControllerCloud,ControllerProject,get_nested_dataframes\n",
    "import pandas as pd\n",
    "from pandas.io.json import json_normalize\n",
    "#FILEPATH = (os.path.join(os.path.dirname(__file__),\"test.yaml\"))\n",
    "FILEPATH=\"test.yaml\"\n",
    "print(FILEPATH)\n",
    "config = config_ops.read_config(FILEPATH)\n",
    "#print(config)\n",
    "# c_yaml=ControllerYaml(config)\n",
    "# print(c_yaml.get_global_key())\n",
    "# print(c_yaml.get_heartbeat_interval())\n",
    "# print(c_yaml.get_project_awsdetails_accesskey())\n",
    "# print(c_yaml.get_project_awsdetails_secretkey())\n",
    "\n",
    "#control_cloud=ControllerCloud(config)\n",
    "#print(control_cloud.get_cloud_details())\n",
    "\n",
    "obj=ControllerProject(config)\n",
    "df=(obj.get_project())\n",
    "prj=obj.get_project_name()\n",
    "#print(prj)\n",
    "#print(obj.get_application_details(prj[0]))\n",
    "project=prj[1]\n",
    "\n",
    "apps=(obj.get_application_names(project))\n",
    "application=apps[0]\n",
    "print(project,application)\n",
    "df=(obj.get_app_endpoints(project,application))\n",
    "#print(obj.get_endpoint_metric(prj[0],apps[0]))"
   ]
  },
  {
   "cell_type": "code",
   "execution_count": 2,
   "metadata": {},
   "outputs": [
    {
     "data": {
      "text/html": [
       "<div>\n",
       "<style scoped>\n",
       "    .dataframe tbody tr th:only-of-type {\n",
       "        vertical-align: middle;\n",
       "    }\n",
       "\n",
       "    .dataframe tbody tr th {\n",
       "        vertical-align: top;\n",
       "    }\n",
       "\n",
       "    .dataframe thead th {\n",
       "        text-align: right;\n",
       "    }\n",
       "</style>\n",
       "<table border=\"1\" class=\"dataframe\">\n",
       "  <thead>\n",
       "    <tr style=\"text-align: right;\">\n",
       "      <th></th>\n",
       "      <th>name</th>\n",
       "      <th>endpoint_type</th>\n",
       "      <th>config</th>\n",
       "      <th>tags</th>\n",
       "      <th>metric</th>\n",
       "    </tr>\n",
       "  </thead>\n",
       "  <tbody>\n",
       "    <tr>\n",
       "      <td>0</td>\n",
       "      <td>rds_endpoint_test2</td>\n",
       "      <td>rds</td>\n",
       "      <td>{'region': 'us-west-2', 'instanceName': 'petcl...</td>\n",
       "      <td>{'key1': 'value1'}</td>\n",
       "      <td>[{'plugin': 'cloudwatch-rds', 'enabled': True,...</td>\n",
       "    </tr>\n",
       "    <tr>\n",
       "      <td>1</td>\n",
       "      <td>s3_endpoint_test</td>\n",
       "      <td>s3</td>\n",
       "      <td>{'region': 'us-west-2', 'instanceName': 'petcl...</td>\n",
       "      <td>{'key1': 'value1'}</td>\n",
       "      <td>[{'plugin': 'cloudwatch-s3', 'interval': 300}]</td>\n",
       "    </tr>\n",
       "    <tr>\n",
       "      <td>2</td>\n",
       "      <td>elb_endpoint_test</td>\n",
       "      <td>elb</td>\n",
       "      <td>{'region': 'us-west-2', 'instanceName': 'pc-el...</td>\n",
       "      <td>{'key1': 'value1'}</td>\n",
       "      <td>[{'plugin': 'cloudwatch-classic', 'enabled': T...</td>\n",
       "    </tr>\n",
       "    <tr>\n",
       "      <td>3</td>\n",
       "      <td>elb_2test</td>\n",
       "      <td>elb</td>\n",
       "      <td>{'region': 'us-west-2', 'instanceName': 'a6880...</td>\n",
       "      <td>{'key1': 'value1'}</td>\n",
       "      <td>[{'plugin': 'cloudwatch-network', 'enabled': T...</td>\n",
       "    </tr>\n",
       "  </tbody>\n",
       "</table>\n",
       "</div>"
      ],
      "text/plain": [
       "                 name endpoint_type  \\\n",
       "0  rds_endpoint_test2           rds   \n",
       "1    s3_endpoint_test            s3   \n",
       "2   elb_endpoint_test           elb   \n",
       "3           elb_2test           elb   \n",
       "\n",
       "                                              config                tags  \\\n",
       "0  {'region': 'us-west-2', 'instanceName': 'petcl...  {'key1': 'value1'}   \n",
       "1  {'region': 'us-west-2', 'instanceName': 'petcl...  {'key1': 'value1'}   \n",
       "2  {'region': 'us-west-2', 'instanceName': 'pc-el...  {'key1': 'value1'}   \n",
       "3  {'region': 'us-west-2', 'instanceName': 'a6880...  {'key1': 'value1'}   \n",
       "\n",
       "                                              metric  \n",
       "0  [{'plugin': 'cloudwatch-rds', 'enabled': True,...  \n",
       "1     [{'plugin': 'cloudwatch-s3', 'interval': 300}]  \n",
       "2  [{'plugin': 'cloudwatch-classic', 'enabled': T...  \n",
       "3  [{'plugin': 'cloudwatch-network', 'enabled': T...  "
      ]
     },
     "execution_count": 2,
     "metadata": {},
     "output_type": "execute_result"
    }
   ],
   "source": [
    "df"
   ]
  },
  {
   "cell_type": "code",
   "execution_count": 3,
   "metadata": {},
   "outputs": [
    {
     "data": {
      "text/plain": [
       "['rds_endpoint_test2', 's3_endpoint_test', 'elb_endpoint_test', 'elb_2test']"
      ]
     },
     "execution_count": 3,
     "metadata": {},
     "output_type": "execute_result"
    }
   ],
   "source": [
    "end_name=obj.get_endpoint_name(project,application)\n",
    "endpoint=end_name[0]\n",
    "end_name"
   ]
  },
  {
   "cell_type": "code",
   "execution_count": 4,
   "metadata": {},
   "outputs": [
    {
     "data": {
      "text/html": [
       "<div>\n",
       "<style scoped>\n",
       "    .dataframe tbody tr th:only-of-type {\n",
       "        vertical-align: middle;\n",
       "    }\n",
       "\n",
       "    .dataframe tbody tr th {\n",
       "        vertical-align: top;\n",
       "    }\n",
       "\n",
       "    .dataframe thead th {\n",
       "        text-align: right;\n",
       "    }\n",
       "</style>\n",
       "<table border=\"1\" class=\"dataframe\">\n",
       "  <thead>\n",
       "    <tr style=\"text-align: right;\">\n",
       "      <th></th>\n",
       "      <th>key1</th>\n",
       "    </tr>\n",
       "  </thead>\n",
       "  <tbody>\n",
       "    <tr>\n",
       "      <td>0</td>\n",
       "      <td>value1</td>\n",
       "    </tr>\n",
       "  </tbody>\n",
       "</table>\n",
       "</div>"
      ],
      "text/plain": [
       "     key1\n",
       "0  value1"
      ]
     },
     "execution_count": 4,
     "metadata": {},
     "output_type": "execute_result"
    }
   ],
   "source": [
    "obj.get_endpoint_tag(project,application,endpoint)"
   ]
  },
  {
   "cell_type": "code",
   "execution_count": 5,
   "metadata": {},
   "outputs": [],
   "source": [
    "df_metric=obj.get_endpoint_metric(project,application,endpoint)\n",
    "df_metric.columns\n",
    "\n",
    "dict_var={'plugin':\"abc\", 'enabled':\"True\", 'interval':\"100\", 'config.ip':\"xx.xx.xx.xx\", 'config.username':\"abcusername\",\n",
    "       'config.password':\"abc123\", 'config.documentsTypes':[\"llb\"], 'config.port':\"1234\"}"
   ]
  },
  {
   "cell_type": "code",
   "execution_count": 6,
   "metadata": {},
   "outputs": [
    {
     "data": {
      "text/html": [
       "<div>\n",
       "<style scoped>\n",
       "    .dataframe tbody tr th:only-of-type {\n",
       "        vertical-align: middle;\n",
       "    }\n",
       "\n",
       "    .dataframe tbody tr th {\n",
       "        vertical-align: top;\n",
       "    }\n",
       "\n",
       "    .dataframe thead th {\n",
       "        text-align: right;\n",
       "    }\n",
       "</style>\n",
       "<table border=\"1\" class=\"dataframe\">\n",
       "  <thead>\n",
       "    <tr style=\"text-align: right;\">\n",
       "      <th></th>\n",
       "      <th>plugin</th>\n",
       "      <th>enabled</th>\n",
       "      <th>interval</th>\n",
       "      <th>config.ip</th>\n",
       "      <th>config.username</th>\n",
       "      <th>config.password</th>\n",
       "      <th>config.documentsTypes</th>\n",
       "      <th>config.port</th>\n",
       "    </tr>\n",
       "  </thead>\n",
       "  <tbody>\n",
       "    <tr>\n",
       "      <td>3</td>\n",
       "      <td>postgres</td>\n",
       "      <td>True</td>\n",
       "      <td>300</td>\n",
       "      <td>database-2.czm0rlpyfodv.us-west-2.rds.amazonaw...</td>\n",
       "      <td>postgres</td>\n",
       "      <td>postgres</td>\n",
       "      <td>[serverDetails, databaseDetails, tableDetails,...</td>\n",
       "      <td>5432.0</td>\n",
       "    </tr>\n",
       "  </tbody>\n",
       "</table>\n",
       "</div>"
      ],
      "text/plain": [
       "     plugin  enabled  interval  \\\n",
       "3  postgres     True       300   \n",
       "\n",
       "                                           config.ip config.username  \\\n",
       "3  database-2.czm0rlpyfodv.us-west-2.rds.amazonaw...        postgres   \n",
       "\n",
       "  config.password                              config.documentsTypes  \\\n",
       "3        postgres  [serverDetails, databaseDetails, tableDetails,...   \n",
       "\n",
       "   config.port  \n",
       "3       5432.0  "
      ]
     },
     "execution_count": 6,
     "metadata": {},
     "output_type": "execute_result"
    }
   ],
   "source": [
    "df_metric[df_metric.plugin==\"postgres\"]"
   ]
  },
  {
   "cell_type": "code",
   "execution_count": 7,
   "metadata": {},
   "outputs": [
    {
     "data": {
      "text/plain": [
       "['cloudwatch-rds', 'cloudwatch-mysqlinsights', 'mysql', 'postgres']"
      ]
     },
     "execution_count": 7,
     "metadata": {},
     "output_type": "execute_result"
    }
   ],
   "source": [
    "plugins=obj.get_metric_plugin_name(project,application,endpoint)\n",
    "plugin=plugins[2]\n",
    "plugins"
   ]
  },
  {
   "cell_type": "code",
   "execution_count": 8,
   "metadata": {},
   "outputs": [
    {
     "data": {
      "text/html": [
       "<div>\n",
       "<style scoped>\n",
       "    .dataframe tbody tr th:only-of-type {\n",
       "        vertical-align: middle;\n",
       "    }\n",
       "\n",
       "    .dataframe tbody tr th {\n",
       "        vertical-align: top;\n",
       "    }\n",
       "\n",
       "    .dataframe thead th {\n",
       "        text-align: right;\n",
       "    }\n",
       "</style>\n",
       "<table border=\"1\" class=\"dataframe\">\n",
       "  <thead>\n",
       "    <tr style=\"text-align: right;\">\n",
       "      <th></th>\n",
       "      <th>plugin</th>\n",
       "      <th>enabled</th>\n",
       "      <th>interval</th>\n",
       "      <th>config.ip</th>\n",
       "      <th>config.username</th>\n",
       "      <th>config.password</th>\n",
       "      <th>config.documentsTypes</th>\n",
       "      <th>config.port</th>\n",
       "    </tr>\n",
       "  </thead>\n",
       "  <tbody>\n",
       "    <tr>\n",
       "      <td>2</td>\n",
       "      <td>mysql</td>\n",
       "      <td>True</td>\n",
       "      <td>300</td>\n",
       "      <td>petclinic-petclinicwebapp-1585204912-database....</td>\n",
       "      <td>XXXXXXXXX</td>\n",
       "      <td>XXXXXXXXX</td>\n",
       "      <td>[serverDetails, databaseDetails, tableDetails]</td>\n",
       "      <td>NaN</td>\n",
       "    </tr>\n",
       "  </tbody>\n",
       "</table>\n",
       "</div>"
      ],
      "text/plain": [
       "  plugin  enabled  interval  \\\n",
       "2  mysql     True       300   \n",
       "\n",
       "                                           config.ip config.username  \\\n",
       "2  petclinic-petclinicwebapp-1585204912-database....       XXXXXXXXX   \n",
       "\n",
       "  config.password                           config.documentsTypes  config.port  \n",
       "2       XXXXXXXXX  [serverDetails, databaseDetails, tableDetails]          NaN  "
      ]
     },
     "execution_count": 8,
     "metadata": {},
     "output_type": "execute_result"
    }
   ],
   "source": [
    "obj.get_metric_plugin_details(project,application,endpoint,plugin)"
   ]
  },
  {
   "cell_type": "code",
   "execution_count": 9,
   "metadata": {},
   "outputs": [
    {
     "data": {
      "text/html": [
       "<div>\n",
       "<style scoped>\n",
       "    .dataframe tbody tr th:only-of-type {\n",
       "        vertical-align: middle;\n",
       "    }\n",
       "\n",
       "    .dataframe tbody tr th {\n",
       "        vertical-align: top;\n",
       "    }\n",
       "\n",
       "    .dataframe thead th {\n",
       "        text-align: right;\n",
       "    }\n",
       "</style>\n",
       "<table border=\"1\" class=\"dataframe\">\n",
       "  <thead>\n",
       "    <tr style=\"text-align: right;\">\n",
       "      <th></th>\n",
       "      <th>region</th>\n",
       "      <th>instanceName</th>\n",
       "    </tr>\n",
       "  </thead>\n",
       "  <tbody>\n",
       "    <tr>\n",
       "      <td>0</td>\n",
       "      <td>us-west-2</td>\n",
       "      <td>petclinic-petclinicwebapp-1585204912-database</td>\n",
       "    </tr>\n",
       "  </tbody>\n",
       "</table>\n",
       "</div>"
      ],
      "text/plain": [
       "      region                                   instanceName\n",
       "0  us-west-2  petclinic-petclinicwebapp-1585204912-database"
      ]
     },
     "execution_count": 9,
     "metadata": {},
     "output_type": "execute_result"
    }
   ],
   "source": [
    "obj.get_endpoint_config(project,application,endpoint)"
   ]
  },
  {
   "cell_type": "code",
   "execution_count": 10,
   "metadata": {},
   "outputs": [],
   "source": [
    "df_metric=obj.get_endpoint_metric(project,application,endpoint)\n",
    "df_metric.columns\n",
    "\n",
    "dict_var={'plugin':\"abc\", 'enabled':\"True\", 'interval':\"100\", 'config.ip':\"xx.xx.xx.xx\", 'config.username':\"abcusername\",\n",
    "       'config.password':\"abc123\", 'config.documentsTypes':[\"llb\"], 'config.port':\"1234\"}"
   ]
  },
  {
   "cell_type": "code",
   "execution_count": 11,
   "metadata": {},
   "outputs": [
    {
     "data": {
      "text/html": [
       "<div>\n",
       "<style scoped>\n",
       "    .dataframe tbody tr th:only-of-type {\n",
       "        vertical-align: middle;\n",
       "    }\n",
       "\n",
       "    .dataframe tbody tr th {\n",
       "        vertical-align: top;\n",
       "    }\n",
       "\n",
       "    .dataframe thead th {\n",
       "        text-align: right;\n",
       "    }\n",
       "</style>\n",
       "<table border=\"1\" class=\"dataframe\">\n",
       "  <thead>\n",
       "    <tr style=\"text-align: right;\">\n",
       "      <th></th>\n",
       "      <th>plugin</th>\n",
       "      <th>enabled</th>\n",
       "      <th>interval</th>\n",
       "      <th>config.ip</th>\n",
       "      <th>config.username</th>\n",
       "      <th>config.password</th>\n",
       "      <th>config.documentsTypes</th>\n",
       "      <th>config.port</th>\n",
       "    </tr>\n",
       "  </thead>\n",
       "  <tbody>\n",
       "    <tr>\n",
       "      <td>0</td>\n",
       "      <td>cloudwatch-rds</td>\n",
       "      <td>True</td>\n",
       "      <td>300</td>\n",
       "      <td>NaN</td>\n",
       "      <td>NaN</td>\n",
       "      <td>NaN</td>\n",
       "      <td>NaN</td>\n",
       "      <td>NaN</td>\n",
       "    </tr>\n",
       "    <tr>\n",
       "      <td>1</td>\n",
       "      <td>cloudwatch-mysqlinsights</td>\n",
       "      <td>True</td>\n",
       "      <td>300</td>\n",
       "      <td>NaN</td>\n",
       "      <td>NaN</td>\n",
       "      <td>NaN</td>\n",
       "      <td>NaN</td>\n",
       "      <td>NaN</td>\n",
       "    </tr>\n",
       "    <tr>\n",
       "      <td>2</td>\n",
       "      <td>mysql</td>\n",
       "      <td>True</td>\n",
       "      <td>300</td>\n",
       "      <td>petclinic-petclinicwebapp-1585204912-database....</td>\n",
       "      <td>XXXXXXXXX</td>\n",
       "      <td>XXXXXXXXX</td>\n",
       "      <td>[serverDetails, databaseDetails, tableDetails]</td>\n",
       "      <td>NaN</td>\n",
       "    </tr>\n",
       "    <tr>\n",
       "      <td>3</td>\n",
       "      <td>postgres</td>\n",
       "      <td>True</td>\n",
       "      <td>300</td>\n",
       "      <td>database-2.czm0rlpyfodv.us-west-2.rds.amazonaw...</td>\n",
       "      <td>postgres</td>\n",
       "      <td>postgres</td>\n",
       "      <td>[serverDetails, databaseDetails, tableDetails,...</td>\n",
       "      <td>5432.0</td>\n",
       "    </tr>\n",
       "  </tbody>\n",
       "</table>\n",
       "</div>"
      ],
      "text/plain": [
       "                     plugin  enabled  interval  \\\n",
       "0            cloudwatch-rds     True       300   \n",
       "1  cloudwatch-mysqlinsights     True       300   \n",
       "2                     mysql     True       300   \n",
       "3                  postgres     True       300   \n",
       "\n",
       "                                           config.ip config.username  \\\n",
       "0                                                NaN             NaN   \n",
       "1                                                NaN             NaN   \n",
       "2  petclinic-petclinicwebapp-1585204912-database....       XXXXXXXXX   \n",
       "3  database-2.czm0rlpyfodv.us-west-2.rds.amazonaw...        postgres   \n",
       "\n",
       "  config.password                              config.documentsTypes  \\\n",
       "0             NaN                                                NaN   \n",
       "1             NaN                                                NaN   \n",
       "2       XXXXXXXXX     [serverDetails, databaseDetails, tableDetails]   \n",
       "3        postgres  [serverDetails, databaseDetails, tableDetails,...   \n",
       "\n",
       "   config.port  \n",
       "0          NaN  \n",
       "1          NaN  \n",
       "2          NaN  \n",
       "3       5432.0  "
      ]
     },
     "execution_count": 11,
     "metadata": {},
     "output_type": "execute_result"
    }
   ],
   "source": [
    "df_metric"
   ]
  },
  {
   "cell_type": "code",
   "execution_count": 12,
   "metadata": {},
   "outputs": [
    {
     "data": {
      "text/html": [
       "<div>\n",
       "<style scoped>\n",
       "    .dataframe tbody tr th:only-of-type {\n",
       "        vertical-align: middle;\n",
       "    }\n",
       "\n",
       "    .dataframe tbody tr th {\n",
       "        vertical-align: top;\n",
       "    }\n",
       "\n",
       "    .dataframe thead th {\n",
       "        text-align: right;\n",
       "    }\n",
       "</style>\n",
       "<table border=\"1\" class=\"dataframe\">\n",
       "  <thead>\n",
       "    <tr style=\"text-align: right;\">\n",
       "      <th></th>\n",
       "      <th>plugin</th>\n",
       "      <th>enabled</th>\n",
       "      <th>interval</th>\n",
       "      <th>config.ip</th>\n",
       "      <th>config.username</th>\n",
       "      <th>config.password</th>\n",
       "      <th>config.documentsTypes</th>\n",
       "      <th>config.port</th>\n",
       "    </tr>\n",
       "  </thead>\n",
       "  <tbody>\n",
       "    <tr>\n",
       "      <td>0</td>\n",
       "      <td>cloudwatch-rds</td>\n",
       "      <td>True</td>\n",
       "      <td>300</td>\n",
       "      <td>NaN</td>\n",
       "      <td>NaN</td>\n",
       "      <td>NaN</td>\n",
       "      <td>NaN</td>\n",
       "      <td>NaN</td>\n",
       "    </tr>\n",
       "    <tr>\n",
       "      <td>1</td>\n",
       "      <td>cloudwatch-mysqlinsights</td>\n",
       "      <td>True</td>\n",
       "      <td>300</td>\n",
       "      <td>NaN</td>\n",
       "      <td>NaN</td>\n",
       "      <td>NaN</td>\n",
       "      <td>NaN</td>\n",
       "      <td>NaN</td>\n",
       "    </tr>\n",
       "    <tr>\n",
       "      <td>2</td>\n",
       "      <td>mysql</td>\n",
       "      <td>True</td>\n",
       "      <td>300</td>\n",
       "      <td>petclinic-petclinicwebapp-1585204912-database....</td>\n",
       "      <td>XXXXXXXXX</td>\n",
       "      <td>XXXXXXXXX</td>\n",
       "      <td>[serverDetails, databaseDetails, tableDetails]</td>\n",
       "      <td>NaN</td>\n",
       "    </tr>\n",
       "    <tr>\n",
       "      <td>3</td>\n",
       "      <td>postgres</td>\n",
       "      <td>True</td>\n",
       "      <td>300</td>\n",
       "      <td>database-2.czm0rlpyfodv.us-west-2.rds.amazonaw...</td>\n",
       "      <td>postgres</td>\n",
       "      <td>postgres</td>\n",
       "      <td>[serverDetails, databaseDetails, tableDetails,...</td>\n",
       "      <td>5432</td>\n",
       "    </tr>\n",
       "    <tr>\n",
       "      <td>0</td>\n",
       "      <td>abc</td>\n",
       "      <td>True</td>\n",
       "      <td>100</td>\n",
       "      <td>xx.xx.xx.xx</td>\n",
       "      <td>abcusername</td>\n",
       "      <td>abc123</td>\n",
       "      <td>llb</td>\n",
       "      <td>1234</td>\n",
       "    </tr>\n",
       "  </tbody>\n",
       "</table>\n",
       "</div>"
      ],
      "text/plain": [
       "                     plugin enabled interval  \\\n",
       "0            cloudwatch-rds    True      300   \n",
       "1  cloudwatch-mysqlinsights    True      300   \n",
       "2                     mysql    True      300   \n",
       "3                  postgres    True      300   \n",
       "0                       abc    True      100   \n",
       "\n",
       "                                           config.ip config.username  \\\n",
       "0                                                NaN             NaN   \n",
       "1                                                NaN             NaN   \n",
       "2  petclinic-petclinicwebapp-1585204912-database....       XXXXXXXXX   \n",
       "3  database-2.czm0rlpyfodv.us-west-2.rds.amazonaw...        postgres   \n",
       "0                                        xx.xx.xx.xx     abcusername   \n",
       "\n",
       "  config.password                              config.documentsTypes  \\\n",
       "0             NaN                                                NaN   \n",
       "1             NaN                                                NaN   \n",
       "2       XXXXXXXXX     [serverDetails, databaseDetails, tableDetails]   \n",
       "3        postgres  [serverDetails, databaseDetails, tableDetails,...   \n",
       "0          abc123                                                llb   \n",
       "\n",
       "  config.port  \n",
       "0         NaN  \n",
       "1         NaN  \n",
       "2         NaN  \n",
       "3        5432  \n",
       "0        1234  "
      ]
     },
     "execution_count": 12,
     "metadata": {},
     "output_type": "execute_result"
    }
   ],
   "source": [
    "df_metric.append(pd.DataFrame(dict_var))"
   ]
  },
  {
   "cell_type": "code",
   "execution_count": 13,
   "metadata": {},
   "outputs": [],
   "source": [
    "a,b=obj.add_metric(project,application,endpoint,plugin,dict_var)"
   ]
  },
  {
   "cell_type": "code",
   "execution_count": 24,
   "metadata": {},
   "outputs": [
    {
     "data": {
      "text/html": [
       "<div>\n",
       "<style scoped>\n",
       "    .dataframe tbody tr th:only-of-type {\n",
       "        vertical-align: middle;\n",
       "    }\n",
       "\n",
       "    .dataframe tbody tr th {\n",
       "        vertical-align: top;\n",
       "    }\n",
       "\n",
       "    .dataframe thead th {\n",
       "        text-align: right;\n",
       "    }\n",
       "</style>\n",
       "<table border=\"1\" class=\"dataframe\">\n",
       "  <thead>\n",
       "    <tr style=\"text-align: right;\">\n",
       "      <th></th>\n",
       "      <th>plugin</th>\n",
       "      <th>enabled</th>\n",
       "      <th>interval</th>\n",
       "      <th>config.ip</th>\n",
       "      <th>config.username</th>\n",
       "      <th>config.password</th>\n",
       "      <th>config.documentsTypes</th>\n",
       "      <th>config.port</th>\n",
       "    </tr>\n",
       "  </thead>\n",
       "  <tbody>\n",
       "    <tr>\n",
       "      <td>0</td>\n",
       "      <td>cloudwatch-rds</td>\n",
       "      <td>True</td>\n",
       "      <td>300</td>\n",
       "      <td>NaN</td>\n",
       "      <td>NaN</td>\n",
       "      <td>NaN</td>\n",
       "      <td>NaN</td>\n",
       "      <td>NaN</td>\n",
       "    </tr>\n",
       "    <tr>\n",
       "      <td>1</td>\n",
       "      <td>cloudwatch-mysqlinsights</td>\n",
       "      <td>True</td>\n",
       "      <td>300</td>\n",
       "      <td>NaN</td>\n",
       "      <td>NaN</td>\n",
       "      <td>NaN</td>\n",
       "      <td>NaN</td>\n",
       "      <td>NaN</td>\n",
       "    </tr>\n",
       "    <tr>\n",
       "      <td>2</td>\n",
       "      <td>mysql</td>\n",
       "      <td>True</td>\n",
       "      <td>300</td>\n",
       "      <td>petclinic-petclinicwebapp-1585204912-database....</td>\n",
       "      <td>XXXXXXXXX</td>\n",
       "      <td>XXXXXXXXX</td>\n",
       "      <td>[serverDetails, databaseDetails, tableDetails]</td>\n",
       "      <td>NaN</td>\n",
       "    </tr>\n",
       "    <tr>\n",
       "      <td>3</td>\n",
       "      <td>postgres</td>\n",
       "      <td>True</td>\n",
       "      <td>300</td>\n",
       "      <td>database-2.czm0rlpyfodv.us-west-2.rds.amazonaw...</td>\n",
       "      <td>postgres</td>\n",
       "      <td>postgres</td>\n",
       "      <td>[serverDetails, databaseDetails, tableDetails,...</td>\n",
       "      <td>5432</td>\n",
       "    </tr>\n",
       "    <tr>\n",
       "      <td>0</td>\n",
       "      <td>abc</td>\n",
       "      <td>True</td>\n",
       "      <td>100</td>\n",
       "      <td>xx.xx.xx.xx</td>\n",
       "      <td>abcusername</td>\n",
       "      <td>abc123</td>\n",
       "      <td>llb</td>\n",
       "      <td>1234</td>\n",
       "    </tr>\n",
       "  </tbody>\n",
       "</table>\n",
       "</div>"
      ],
      "text/plain": [
       "                     plugin enabled interval  \\\n",
       "0            cloudwatch-rds    True      300   \n",
       "1  cloudwatch-mysqlinsights    True      300   \n",
       "2                     mysql    True      300   \n",
       "3                  postgres    True      300   \n",
       "0                       abc    True      100   \n",
       "\n",
       "                                           config.ip config.username  \\\n",
       "0                                                NaN             NaN   \n",
       "1                                                NaN             NaN   \n",
       "2  petclinic-petclinicwebapp-1585204912-database....       XXXXXXXXX   \n",
       "3  database-2.czm0rlpyfodv.us-west-2.rds.amazonaw...        postgres   \n",
       "0                                        xx.xx.xx.xx     abcusername   \n",
       "\n",
       "  config.password                              config.documentsTypes  \\\n",
       "0             NaN                                                NaN   \n",
       "1             NaN                                                NaN   \n",
       "2       XXXXXXXXX     [serverDetails, databaseDetails, tableDetails]   \n",
       "3        postgres  [serverDetails, databaseDetails, tableDetails,...   \n",
       "0          abc123                                                llb   \n",
       "\n",
       "  config.port  \n",
       "0         NaN  \n",
       "1         NaN  \n",
       "2         NaN  \n",
       "3        5432  \n",
       "0        1234  "
      ]
     },
     "execution_count": 24,
     "metadata": {},
     "output_type": "execute_result"
    }
   ],
   "source": [
    "a"
   ]
  },
  {
   "cell_type": "code",
   "execution_count": 15,
   "metadata": {},
   "outputs": [
    {
     "data": {
      "text/html": [
       "<div>\n",
       "<style scoped>\n",
       "    .dataframe tbody tr th:only-of-type {\n",
       "        vertical-align: middle;\n",
       "    }\n",
       "\n",
       "    .dataframe tbody tr th {\n",
       "        vertical-align: top;\n",
       "    }\n",
       "\n",
       "    .dataframe thead th {\n",
       "        text-align: right;\n",
       "    }\n",
       "</style>\n",
       "<table border=\"1\" class=\"dataframe\">\n",
       "  <thead>\n",
       "    <tr style=\"text-align: right;\">\n",
       "      <th></th>\n",
       "      <th>key</th>\n",
       "      <th>heartbeat_interval</th>\n",
       "      <th>clouds</th>\n",
       "      <th>projects.awsDetails.secretKey</th>\n",
       "      <th>projects.awsDetails.accessKey</th>\n",
       "      <th>projects.projectList</th>\n",
       "    </tr>\n",
       "  </thead>\n",
       "  <tbody>\n",
       "    <tr>\n",
       "      <td>0</td>\n",
       "      <td>XXXXXXXXX</td>\n",
       "      <td>300</td>\n",
       "      <td>[{'name': 'Home-Account', 'type': 'aws', 'tags...</td>\n",
       "      <td>XXXXXXXXX</td>\n",
       "      <td>XXXXXXXXX</td>\n",
       "      <td>[{'name': 'controller_pro', 'applications': [{...</td>\n",
       "    </tr>\n",
       "  </tbody>\n",
       "</table>\n",
       "</div>"
      ],
      "text/plain": [
       "         key  heartbeat_interval  \\\n",
       "0  XXXXXXXXX                 300   \n",
       "\n",
       "                                              clouds  \\\n",
       "0  [{'name': 'Home-Account', 'type': 'aws', 'tags...   \n",
       "\n",
       "  projects.awsDetails.secretKey projects.awsDetails.accessKey  \\\n",
       "0                     XXXXXXXXX                     XXXXXXXXX   \n",
       "\n",
       "                                projects.projectList  \n",
       "0  [{'name': 'controller_pro', 'applications': [{...  "
      ]
     },
     "execution_count": 15,
     "metadata": {},
     "output_type": "execute_result"
    }
   ],
   "source": [
    "b"
   ]
  },
  {
   "cell_type": "code",
   "execution_count": 20,
   "metadata": {},
   "outputs": [],
   "source": [
    "obj1=ControllerProject(b)"
   ]
  },
  {
   "cell_type": "code",
   "execution_count": 21,
   "metadata": {},
   "outputs": [
    {
     "data": {
      "text/plain": [
       "False"
      ]
     },
     "execution_count": 21,
     "metadata": {},
     "output_type": "execute_result"
    }
   ],
   "source": [
    "isinstance(b,dict)"
   ]
  },
  {
   "cell_type": "code",
   "execution_count": 23,
   "metadata": {},
   "outputs": [
    {
     "data": {
      "text/html": [
       "<div>\n",
       "<style scoped>\n",
       "    .dataframe tbody tr th:only-of-type {\n",
       "        vertical-align: middle;\n",
       "    }\n",
       "\n",
       "    .dataframe tbody tr th {\n",
       "        vertical-align: top;\n",
       "    }\n",
       "\n",
       "    .dataframe thead th {\n",
       "        text-align: right;\n",
       "    }\n",
       "</style>\n",
       "<table border=\"1\" class=\"dataframe\">\n",
       "  <thead>\n",
       "    <tr style=\"text-align: right;\">\n",
       "      <th></th>\n",
       "      <th>plugin</th>\n",
       "      <th>enabled</th>\n",
       "      <th>interval</th>\n",
       "      <th>config.ip</th>\n",
       "      <th>config.username</th>\n",
       "      <th>config.password</th>\n",
       "      <th>config.documentsTypes</th>\n",
       "      <th>config.port</th>\n",
       "    </tr>\n",
       "  </thead>\n",
       "  <tbody>\n",
       "    <tr>\n",
       "      <td>0</td>\n",
       "      <td>cloudwatch-rds</td>\n",
       "      <td>True</td>\n",
       "      <td>300</td>\n",
       "      <td>NaN</td>\n",
       "      <td>NaN</td>\n",
       "      <td>NaN</td>\n",
       "      <td>NaN</td>\n",
       "      <td>NaN</td>\n",
       "    </tr>\n",
       "    <tr>\n",
       "      <td>1</td>\n",
       "      <td>cloudwatch-mysqlinsights</td>\n",
       "      <td>True</td>\n",
       "      <td>300</td>\n",
       "      <td>NaN</td>\n",
       "      <td>NaN</td>\n",
       "      <td>NaN</td>\n",
       "      <td>NaN</td>\n",
       "      <td>NaN</td>\n",
       "    </tr>\n",
       "    <tr>\n",
       "      <td>2</td>\n",
       "      <td>mysql</td>\n",
       "      <td>True</td>\n",
       "      <td>300</td>\n",
       "      <td>petclinic-petclinicwebapp-1585204912-database....</td>\n",
       "      <td>XXXXXXXXX</td>\n",
       "      <td>XXXXXXXXX</td>\n",
       "      <td>[serverDetails, databaseDetails, tableDetails]</td>\n",
       "      <td>NaN</td>\n",
       "    </tr>\n",
       "    <tr>\n",
       "      <td>3</td>\n",
       "      <td>postgres</td>\n",
       "      <td>True</td>\n",
       "      <td>300</td>\n",
       "      <td>database-2.czm0rlpyfodv.us-west-2.rds.amazonaw...</td>\n",
       "      <td>postgres</td>\n",
       "      <td>postgres</td>\n",
       "      <td>[serverDetails, databaseDetails, tableDetails,...</td>\n",
       "      <td>5432.0</td>\n",
       "    </tr>\n",
       "  </tbody>\n",
       "</table>\n",
       "</div>"
      ],
      "text/plain": [
       "                     plugin  enabled  interval  \\\n",
       "0            cloudwatch-rds     True       300   \n",
       "1  cloudwatch-mysqlinsights     True       300   \n",
       "2                     mysql     True       300   \n",
       "3                  postgres     True       300   \n",
       "\n",
       "                                           config.ip config.username  \\\n",
       "0                                                NaN             NaN   \n",
       "1                                                NaN             NaN   \n",
       "2  petclinic-petclinicwebapp-1585204912-database....       XXXXXXXXX   \n",
       "3  database-2.czm0rlpyfodv.us-west-2.rds.amazonaw...        postgres   \n",
       "\n",
       "  config.password                              config.documentsTypes  \\\n",
       "0             NaN                                                NaN   \n",
       "1             NaN                                                NaN   \n",
       "2       XXXXXXXXX     [serverDetails, databaseDetails, tableDetails]   \n",
       "3        postgres  [serverDetails, databaseDetails, tableDetails,...   \n",
       "\n",
       "   config.port  \n",
       "0          NaN  \n",
       "1          NaN  \n",
       "2          NaN  \n",
       "3       5432.0  "
      ]
     },
     "execution_count": 23,
     "metadata": {},
     "output_type": "execute_result"
    }
   ],
   "source": [
    "obj1.get_endpoint_metric(project,application,endpoint)"
   ]
  },
  {
   "cell_type": "code",
   "execution_count": null,
   "metadata": {},
   "outputs": [],
   "source": []
  }
 ],
 "metadata": {
  "kernelspec": {
   "display_name": "Python 3",
   "language": "python",
   "name": "python3"
  },
  "language_info": {
   "codemirror_mode": {
    "name": "ipython",
    "version": 3
   },
   "file_extension": ".py",
   "mimetype": "text/x-python",
   "name": "python",
   "nbconvert_exporter": "python",
   "pygments_lexer": "ipython3",
   "version": "3.6.5"
  }
 },
 "nbformat": 4,
 "nbformat_minor": 2
}
