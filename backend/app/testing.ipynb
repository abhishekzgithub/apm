{
 "cells": [
  {
   "cell_type": "code",
   "execution_count": 6,
   "metadata": {},
   "outputs": [],
   "source": [
    "import yaml\n",
    "import json"
   ]
  },
  {
   "cell_type": "code",
   "execution_count": 36,
   "metadata": {},
   "outputs": [
    {
     "name": "stdout",
     "output_type": "stream",
     "text": [
      "{'key': 'CHANGEME', 'tags': {'Name': 'CHANGEME', 'appName': 'CHANGEME', 'projectName': 'CHANGEME'}, 'metrics': {'plugins': [{'name': 'linux', 'enabled': True, 'interval': 300}, {'name': 'postgres', 'enabled': True, 'interval': 300, 'config': {'documentsTypes': ['databaseDetails', 'indexDetails', 'queryDetails', 'serverDetails', 'tableDetails'], 'host': '127.0.0.1', 'password': 'postgres', 'port': 5432, 'user': 'postgres'}}]}, 'logging': {'plugins': [{'name': 'linux-syslog', 'enabled': True, 'config': {'log_level': ['error'], 'log_path': '/var/log/syslog,/var/log/auth.log,/var/log/messages,/var/log/secure'}}]}}\n"
     ]
    }
   ],
   "source": [
    "filename=\"config_generated.yaml\"\n",
    "with open(filename,mode=\"r\") as fr:\n",
    "    yaml_dict=yaml.load(fr,Loader=yaml.Loader)\n",
    "print(yaml_dict)"
   ]
  },
  {
   "cell_type": "markdown",
   "metadata": {},
   "source": []
  },
  {
   "cell_type": "code",
   "execution_count": 3,
   "metadata": {},
   "outputs": [
    {
     "data": {
      "text/plain": [
       "dict_keys(['key', 'tags', 'metrics', 'logging'])"
      ]
     },
     "execution_count": 3,
     "metadata": {},
     "output_type": "execute_result"
    }
   ],
   "source": [
    "yaml_dict.keys()"
   ]
  },
  {
   "cell_type": "code",
   "execution_count": 37,
   "metadata": {},
   "outputs": [
    {
     "data": {
      "text/plain": [
       "{'key': 'xyz',\n",
       " 'tags': {'Name': 'CHANGEME',\n",
       "  'appName': 'CHANGEME',\n",
       "  'projectName': 'CHANGEME'},\n",
       " 'metrics': {'plugins': [{'name': 'linux', 'enabled': True, 'interval': 300},\n",
       "   {'name': 'postgres',\n",
       "    'enabled': True,\n",
       "    'interval': 300,\n",
       "    'config': {'documentsTypes': ['databaseDetails',\n",
       "      'indexDetails',\n",
       "      'queryDetails',\n",
       "      'serverDetails',\n",
       "      'tableDetails'],\n",
       "     'host': '127.0.0.1',\n",
       "     'password': 'postgres',\n",
       "     'port': 5432,\n",
       "     'user': 'postgres'}}]},\n",
       " 'logging': {'plugins': [{'name': 'linux-syslog',\n",
       "    'enabled': True,\n",
       "    'config': {'log_level': ['error'],\n",
       "     'log_path': '/var/log/syslog,/var/log/auth.log,/var/log/messages,/var/log/secure'}}]}}"
      ]
     },
     "execution_count": 37,
     "metadata": {},
     "output_type": "execute_result"
    }
   ],
   "source": [
    "yaml_dict['key']=\"xyz\"\n",
    "yaml_dict"
   ]
  },
  {
   "cell_type": "code",
   "execution_count": 42,
   "metadata": {},
   "outputs": [],
   "source": [
    "abc=((json.loads(json.dumps((yaml_dict)))))"
   ]
  },
  {
   "cell_type": "code",
   "execution_count": 43,
   "metadata": {},
   "outputs": [
    {
     "name": "stdout",
     "output_type": "stream",
     "text": [
      "None\n"
     ]
    }
   ],
   "source": [
    "with open(\"test2.yaml\",mode=\"w\") as fw:\n",
    "    print(yaml.dump(abc,fw,Dumper=yaml.Dumper,default_flow_style=False))"
   ]
  },
  {
   "cell_type": "code",
   "execution_count": 31,
   "metadata": {},
   "outputs": [
    {
     "name": "stdout",
     "output_type": "stream",
     "text": [
      "Requirement already satisfied: pyyaml in d:\\anaconda3\\lib\\site-packages (3.12)\n"
     ]
    },
    {
     "name": "stderr",
     "output_type": "stream",
     "text": [
      "WARNING: You are using pip version 20.0.2; however, version 20.1.1 is available.\n",
      "You should consider upgrading via the 'd:\\anaconda3\\python.exe -m pip install --upgrade pip' command.\n"
     ]
    }
   ],
   "source": [
    "# !pip install pyyaml"
   ]
  },
  {
   "cell_type": "code",
   "execution_count": null,
   "metadata": {},
   "outputs": [],
   "source": []
  }
 ],
 "metadata": {
  "kernelspec": {
   "display_name": "Python 3",
   "language": "python",
   "name": "python3"
  },
  "language_info": {
   "codemirror_mode": {
    "name": "ipython",
    "version": 3
   },
   "file_extension": ".py",
   "mimetype": "text/x-python",
   "name": "python",
   "nbconvert_exporter": "python",
   "pygments_lexer": "ipython3",
   "version": "3.6.5"
  }
 },
 "nbformat": 4,
 "nbformat_minor": 2
}
